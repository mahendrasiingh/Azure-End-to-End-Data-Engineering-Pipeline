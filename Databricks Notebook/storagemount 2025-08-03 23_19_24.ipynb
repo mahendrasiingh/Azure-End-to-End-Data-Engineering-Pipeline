{
 "cells": [
  {
   "cell_type": "code",
   "execution_count": 0,
   "metadata": {
    "application/vnd.databricks.v1+cell": {
     "cellMetadata": {},
     "inputWidgets": {},
     "nuid": "1845649e-b82c-45c3-a463-bd90d01be3aa",
     "showTitle": false,
     "tableResultSettingsMap": {},
     "title": ""
    }
   },
   "outputs": [],
   "source": [
    "dbutils.fs.mount(\n",
    "  source = \"wasbs://bronze@msgdatalakegen2.blob.core.windows.net/\",\n",
    "  mount_point = \"/mnt/bronze\",\n",
    "  extra_configs = {\n",
    "    \"fs.azure.account.key.msgdatalakegen2.blob.core.windows.net\": \"VG86huW9mx6vDMMF6MPNox6onznjq16ea+JDkP++x3RH/DcBpOpTbXaio8tvT2cl6XihstUsvSLy+AStcHpMeA==\"\n",
    "  }\n",
    ")"
   ]
  },
  {
   "cell_type": "code",
   "execution_count": 0,
   "metadata": {
    "application/vnd.databricks.v1+cell": {
     "cellMetadata": {},
     "inputWidgets": {},
     "nuid": "284427d7-abda-4170-8331-af953e59f31c",
     "showTitle": false,
     "tableResultSettingsMap": {},
     "title": ""
    }
   },
   "outputs": [],
   "source": [
    "dbutils.fs.mount(\n",
    "  source = \"wasbs://silver@msgdatalakegen2.blob.core.windows.net/\",\n",
    "  mount_point = \"/mnt/silver\",\n",
    "  extra_configs = {\n",
    "    \"fs.azure.account.key.msgdatalakegen2.blob.core.windows.net\": \"VG86huW9mx6vDMMF6MPNox6onznjq16ea+JDkP++x3RH/DcBpOpTbXaio8tvT2cl6XihstUsvSLy+AStcHpMeA==\"\n",
    "  }\n",
    ")"
   ]
  },
  {
   "cell_type": "code",
   "execution_count": 0,
   "metadata": {
    "application/vnd.databricks.v1+cell": {
     "cellMetadata": {},
     "inputWidgets": {},
     "nuid": "a6db4e6b-dcc8-463b-86ab-0a958bfc569b",
     "showTitle": false,
     "tableResultSettingsMap": {},
     "title": ""
    }
   },
   "outputs": [],
   "source": [
    "dbutils.fs.mount(\n",
    "  source = \"wasbs://gold@msgdatalakegen2.blob.core.windows.net/\",\n",
    "  mount_point = \"/mnt/gold\",\n",
    "  extra_configs = {\n",
    "    \"fs.azure.account.key.msgdatalakegen2.blob.core.windows.net\": \"VG86huW9mx6vDMMF6MPNox6onznjq16ea+JDkP++x3RH/DcBpOpTbXaio8tvT2cl6XihstUsvSLy+AStcHpMeA==\"\n",
    "  }\n",
    ")"
   ]
  }
 ],
 "metadata": {
  "application/vnd.databricks.v1+notebook": {
   "computePreferences": null,
   "dashboards": [],
   "environmentMetadata": {
    "base_environment": "",
    "environment_version": "2"
   },
   "inputWidgetPreferences": null,
   "language": "python",
   "notebookMetadata": {
    "pythonIndentUnit": 4
   },
   "notebookName": "storagemount 2025-08-03 23:19:24",
   "widgets": {}
  },
  "language_info": {
   "name": "python"
  }
 },
 "nbformat": 4,
 "nbformat_minor": 0
}